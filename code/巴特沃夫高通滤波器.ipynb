{
 "cells": [
  {
   "cell_type": "code",
   "execution_count": null,
   "id": "7c9ffd49-7da9-4916-98a4-18eb71a15621",
   "metadata": {},
   "outputs": [],
   "source": [
    "from scipy.signal import butter, filtfilt\n",
    "import scipy.signal as signal\n",
    "def high_pass_filter(data: xr.DataArray | xr.Dataset) -> np.array:\n",
    "    # 设计3阶Butterworth高通滤波器\n",
    "    fs = 1  # 采样率，每年采样一次\n",
    "    cutoff = 1/9  # 截止频率，每9年一个周期，即0.111...（每年周期数）\n",
    "    nyq = 0.5 * fs #奈奎斯特频率\n",
    "    normal_cutoff = cutoff / nyq  # 计算归一化截止频率\n",
    "    if isinstance(data, xr.DataArray):   #判断输入数据是否为xarray.DataArray\n",
    "        data = data.values\n",
    "\n",
    "    # 应用滤波器到数据\n",
    "    b, a = butter(3, normal_cutoff, btype='low')  #设置阶数为 3\n",
    "    filtered_data = filtfilt(b, a, data,axis=0)\n",
    "    return filtered_data"
   ]
  }
 ],
 "metadata": {
  "kernelspec": {
   "display_name": "Python 3 (ipykernel)",
   "language": "python",
   "name": "python3"
  },
  "language_info": {
   "codemirror_mode": {
    "name": "ipython",
    "version": 3
   },
   "file_extension": ".py",
   "mimetype": "text/x-python",
   "name": "python",
   "nbconvert_exporter": "python",
   "pygments_lexer": "ipython3",
   "version": "3.11.8"
  }
 },
 "nbformat": 4,
 "nbformat_minor": 5
}
