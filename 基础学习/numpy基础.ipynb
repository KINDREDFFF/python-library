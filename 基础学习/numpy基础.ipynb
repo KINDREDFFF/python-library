{
 "cells": [
  {
   "cell_type": "markdown",
   "id": "c8a8ae99",
   "metadata": {},
   "source": [
    "## 1. 基础\n",
    "|操作|描述| \n",
    "|:---|:---|\n",
    "|np.array([1,2,3])|一维数组|  \n",
    "|np.array([(1,2,3),(4,5,6)])|二维数组|  \n",
    "|np.arange(start,stop,step)|等差数组|\n"
   ]
  },
  {
   "cell_type": "markdown",
   "id": "6f020692",
   "metadata": {},
   "source": [
    "### 占位符  \n",
    "|操作|描述|  \n",
    "|:---|:---|  \n",
    "|np.linspace(0,2,9)|数组中添加等差的值|  \n",
    "|np.zeros((1,2))|创建全0数组|  \n",
    "|np.ones((1,2))|创建全1数组|  \n",
    "|np.random.random((5,5))|创建随机数的数组|  \n",
    "|np.empty((2,2))|创建空数组|  "
   ]
  },
  {
   "cell_type": "markdown",
   "id": "623b8156",
   "metadata": {},
   "source": [
    "## 数组属性  \n",
    "|语法|描述|  \n",
    "|:---|:---|  \n",
    "|array.shape|维度(行,列)|  \n",
    "|len(array)|数组长度|  \n",
    "|array.ndim|数组的维度数|  \n",
    "|array.size|数组的元素数|  \n",
    "|array.dtype|数据类型|  \n",
    "|array.astype(type)|转换数组类型|  \n",
    "|type(array)|显示数组类型|\n",
    "\n",
    "\n"
   ]
  },
  {
   "cell_type": "markdown",
   "id": "bda92e94",
   "metadata": {},
   "source": [
    "## 拷贝/排序  \n",
    "|操作|描述|  \n",
    "|:---|:---|  \n",
    "|np.copy(array)|创建数组拷贝|  \n",
    "|other = array.copy()|创建数组深拷贝|  \n",
    "|array.sort()|排序一个数组|  \n",
    "|array.sort(axis=0)|按照指定轴排序一个数组|  "
   ]
  },
  {
   "cell_type": "markdown",
   "id": "88c75353",
   "metadata": {},
   "source": [
    "## 2.数组操作例程  \n",
    "### 增加或减少元素\n",
    "|操作|描述|  \n",
    "|:---|:---|  \n",
    "|np.append(a,b)|增加数据项到数组|  \n",
    "|np.insert(array, 1, 2, axis)|沿着数组0轴或者1轴插入数据项| \n",
    "|np.resize((2,4))|将数组调整为形状(2,4)|  \n",
    "|np.delete(array,1,axis)|从数组里删除数据项|\n"
   ]
  },
  {
   "cell_type": "markdown",
   "id": "79831764",
   "metadata": {},
   "source": [
    "### 组合数组  \n",
    "|操作|描述|  \n",
    "|:---|:---|  \n",
    "|np.concatenate((a,b),axis=0)|连接2个数组，添加到末尾|  \n",
    "|np.vstack((a,b))|按照行堆叠数组|  \n",
    "|np.hstack((a,b))|按照列堆叠数组|"
   ]
  },
  {
   "cell_type": "markdown",
   "id": "3a649ef0",
   "metadata": {},
   "source": [
    "### 分割数组  \n",
    "|操作|描述|  \n",
    "|:---|:---|  \n",
    "|numpy.split()|分割数组|  \n",
    "|np.array_split(array, 3)|将数组拆分为大小（几乎）相同的子数组|  \n",
    "|numpy.hsplit(array, 3)|在第3个索引处水平拆分数组|"
   ]
  },
  {
   "cell_type": "markdown",
   "id": "1af5cb8f",
   "metadata": {},
   "source": [
    "### 数组形状变化  \n",
    "|操作|描述|  \n",
    "|:---|:---|  \n",
    "|other = ndarray.flatten()|平铺一个二维数组到一维数组|  \n",
    "|numpy.flip()|翻转一维数组中元素的顺序|  \n",
    "|np.ndarray[::-1]|\t翻转一维数组中元素的顺序|  \n",
    "|reshape|改变数组的维数|  \n",
    "|squeeze|从数组的形状中删除单维度条目|  \n",
    "|expand_dims|扩展数组维度|  \n"
   ]
  },
  {
   "cell_type": "markdown",
   "id": "21c5ba50",
   "metadata": {},
   "source": [
    "### 其它  \n",
    "|操作|描述|  \n",
    "|:---|:---|  \n",
    "|other = ndarray.flatten()|平铺2维数组到1维数组|  \n",
    "|array = np.transpose(other)|数组转置  \n",
    "array.T|数组转置|  \n",
    "inverse = np.linalg.inv(matrix)|求矩阵的逆矩阵"
   ]
  },
  {
   "cell_type": "markdown",
   "id": "cbe458b7",
   "metadata": {},
   "source": [
    "### 数学计算  \n",
    "操作|描述  \n",
    ":---|:---  \n",
    "np.add(x,y) x + y|加   \n",
    "np.substract(x,y) x-y|减  \n",
    "np.divide(x,y) x / y|除  \n",
    "np.multiply(x,y) x * y|乘  \n",
    "np.sqrt(x)|平方根  \n",
    "np.sin(x)|元素正弦  \n",
    "np.cos(x)|元素余弦  \n",
    "np.log(x)|元素自然对数  \n",
    "np.dot(x,y)|点积  \n",
    "np.roots([1,0,-4])|给定多项式系数的根  \n"
   ]
  },
  {
   "cell_type": "markdown",
   "id": "ad767e26",
   "metadata": {},
   "source": [
    "### 比较  \n",
    "操作|描述 \n",
    "|:---|:---|\n",
    "==|等于  \n",
    "！=|不等于  \n",
    "<|小于 \n",
    "|>|大于  \n",
    "<=|小于等于  \n",
    "|>=|大于等于  \n",
    "np.array_equal(x,y)|数组比较"
   ]
  },
  {
   "cell_type": "markdown",
   "id": "ca52e409",
   "metadata": {},
   "source": [
    "### 基本的统计\n",
    "操作|描述  \n",
    ":---|:---  \n",
    "np.mean(array)|Mean  \n",
    "np.median(array)|Median  \n",
    "array.corrcoef()|Correlation Coefficient  \n",
    "np.std(array)|Standard Deviation  \n",
    "array.sum()|数组求和  \n",
    "array.min()|\t数组求最小值  \n",
    "array.max(axis=0)|数组求最大值（沿着0轴）  \n",
    "array.cumsum(axis=0)|指定轴求累计和  \n"
   ]
  },
  {
   "cell_type": "markdown",
   "id": "abc33fbd",
   "metadata": {},
   "source": [
    "### 切片和子集\n",
    "array[i]|索引i处的一维数组  \n",
    ":---|:---  \n",
    "array[i,j]|索引在[i][j]处的二维数组  \n",
    "array[i<4]|布尔索引  \n",
    "array[0:3]|选择索引为 0, 1和 2  \n",
    "array[0:2,1]|选择第0,1行，第1列  \n",
    "array[:1]|选择第0行数据项 (与[0:1, :]相同)  \n",
    "array[1:2, :]|选择第1行  \n",
    "array[ : :-1]|反转数组\n",
    "[comment]: <>|array[1,...]\n",
    "\n",
    "\n"
   ]
  },
  {
   "cell_type": "markdown",
   "id": "e6180264",
   "metadata": {},
   "source": [
    "### 小技巧\n",
    "布尔索引"
   ]
  },
  {
   "cell_type": "code",
   "execution_count": 4,
   "id": "c8253cb2",
   "metadata": {},
   "outputs": [
    {
     "name": "stdout",
     "output_type": "stream",
     "text": [
      "[1 2 3 4 5 6]\n"
     ]
    }
   ],
   "source": [
    "import numpy as np\n",
    "x = np.array([1,2,3,4,5,6,7])\n",
    "y = np.array([1,2,3,4,5,6,8])\n",
    "print(x[x==y])"
   ]
  }
 ],
 "metadata": {
  "kernelspec": {
   "display_name": "Python 3 (ipykernel)",
   "language": "python",
   "name": "python3"
  },
  "language_info": {
   "codemirror_mode": {
    "name": "ipython",
    "version": 3
   },
   "file_extension": ".py",
   "mimetype": "text/x-python",
   "name": "python",
   "nbconvert_exporter": "python",
   "pygments_lexer": "ipython3",
   "version": "3.9.18"
  }
 },
 "nbformat": 4,
 "nbformat_minor": 5
}
