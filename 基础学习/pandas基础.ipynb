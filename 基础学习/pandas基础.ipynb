{
 "cells": [
  {
   "cell_type": "markdown",
   "id": "8aa70d3c",
   "metadata": {},
   "source": [
    "# Pandas常用函数\n",
    "### 读取数据 \n",
    "函数|说明\n",
    ":---|:---  \n",
    "pd.read_csv(filename)|读取 CSV 文件；  \n",
    "pd.read_excel(filename)|读取 Excel 文件；  \n",
    "pd.read_sql(query, connection_object)|从 SQL 数据库读取数据；  \n",
    "pd.read_json(json_string)|从 JSON 字符串中读取数据；  \n",
    "pd.read_html(url)| \t从 HTML 页面中读取数据。  \n",
    "### 查看数据\n",
    "函数|说明  \n",
    ":---|:---\n",
    "df.head(n)|显示前 n 行数据；  \n",
    "df.tail(n)|显示后 n 行数据；  \n",
    "df.info()|\t显示数据的信息，包括列名、数据类型、缺失值等；\n",
    "df.describe()|显示数据的基本统计信息，包括均值、方差、最大值、最小值等；  \n",
    "df.shape|显示数据的行数和列数。 \n",
    "### 数据清洗  \n",
    "函数|说明  \n",
    ":---|:---\n",
    "df.dropna()|删除包含缺失值的行或列；  \n",
    "df.fillna(value)|将缺失值替换为指定的值；  \n",
    "df.replace(old_value, new_value)|将指定值替换为新值；  \n",
    "df.duplicated()|检查是否有重复的数据；  \n",
    "df.drop_duplicates()|删除重复的数据。  \n",
    "### 数据选择和切片\n",
    "函数|说明\n",
    ":---|:---\n",
    "df[column_name]|选择指定的列；  \n",
    "df.loc[row_index, column_name]|通过标签选择数据；  \n",
    "df.iloc[row_index, column_index]|通过位置选择数据；  \n",
    "df.ix[row_index, column_name]|通过标签或位置选择数据；  \n",
    "df.filter(items=[column_name1, column_name2])|选择指定的列；  \n",
    "df.filter(regex='regex')|选择列名匹配正则表达式的列  \n",
    "df.sample(n)|随机选择 n 行数据。\n",
    "### 数据排序 \n",
    "函数|说明  \n",
    ":---|:---  \n",
    "df.sort_values(column_name)|按照指定列的值排序；  \n",
    "df.sort_values([column_name1, column_name2], ascending=[True, False])|按照多个列的值排序；  \n",
    "df.sort_index()|按照索引排序。"
   ]
  },
  {
   "cell_type": "markdown",
   "id": "6238ab9b",
   "metadata": {},
   "source": [
    "### 数据分组和聚合  \n",
    "函数|说明\n",
    ":---|:---\n",
    "df.groupby(column_name)|按照指定列进行分组；  \n",
    "df.aggregate(function_name)|对分组后的数据进行聚合操作；  \n",
    "df.pivot_table(values, index, columns, aggfunc)|\t生成透视表。"
   ]
  },
  {
   "cell_type": "markdown",
   "id": "e623bebf",
   "metadata": {},
   "source": [
    "### 数据合并  \n",
    "函数|说明  \n",
    ":---|:---  \n",
    "pd.concat([df1, df2])|将多个数据框按照行或列进行合并；\n",
    "pd.merge(df1, df2, on=column_name)|按照指定列将两个数据框进行合并。"
   ]
  },
  {
   "cell_type": "markdown",
   "id": "e74805b2",
   "metadata": {},
   "source": [
    "### 数据选择和过滤\n",
    "函数|说明  \n",
    ":---|:--- \n",
    "df.loc[row_indexer, column_indexer]|按标签选择行和列。  \n",
    "df.iloc[row_indexer, column_indexer]|按位置选择行和列。  \n",
    "df[df['column_name'] > value]|选择列中满足条件的行。  \n",
    "df.query('column_name > value')\t|使用字符串表达式选择列中满足条件的行。"
   ]
  },
  {
   "cell_type": "markdown",
   "id": "021f0a27",
   "metadata": {},
   "source": [
    "### 数据统计和描述\n",
    "函数|说明\n",
    ":---|:---\n",
    "df.describe()|计算基本统计信息，如均值、标准差、最小值、最大值等。  \n",
    "df.mean()|计算每列的平均值。  \n",
    "df.median()|计算每列的中位数。  \n",
    "df.mode()|计算每列的众数。  \n",
    "df.count()|计算每列非缺失值的数量。"
   ]
  },
  {
   "cell_type": "markdown",
   "id": "18b2e755",
   "metadata": {},
   "source": [
    "# pandas-seriers\n",
    "pandas.Series( data, index, dtype, name, copy)**特指一维向量应该？** \n",
    "* data：一组数据(ndarray 类型)。 列表，字典，numpy数组 \n",
    "* index：数据索引标签，如果不指定，默认从 0 开始。  \n",
    "* dtype：数据类型，默认会自己判断。  \n",
    "* name：设置名称。  \n",
    "* copy：拷贝数据，默认为 False。  \n",
    "![image](https://medium.com/epfl-extension-school/selecting-data-from-a-pandas-dataframe-53917dc39953)"
   ]
  },
  {
   "cell_type": "code",
   "execution_count": 6,
   "id": "381c131b",
   "metadata": {},
   "outputs": [
    {
     "data": {
      "text/plain": [
       "x    1\n",
       "y    2\n",
       "z    3\n",
       "dtype: int64"
      ]
     },
     "execution_count": 6,
     "metadata": {},
     "output_type": "execute_result"
    }
   ],
   "source": [
    "import pandas as pd\n",
    "a = [1, 2, 3]\n",
    "myvar = pd.Series(a,index=[\"x\", \"y\", \"z\"])\n",
    "myvar"
   ]
  },
  {
   "cell_type": "code",
   "execution_count": 9,
   "id": "2459ceab",
   "metadata": {},
   "outputs": [
    {
     "name": "stdout",
     "output_type": "stream",
     "text": [
      "1    Google\n",
      "2    Runoob\n",
      "Name: run, dtype: object\n"
     ]
    }
   ],
   "source": [
    "##字典\n",
    "sites = {1: \"Google\", 2: \"Runoob\", 3: \"Wiki\"}\n",
    "myvar = pd.Series(sites,index=[1,2],name='run')\n",
    "print(myvar)"
   ]
  },
  {
   "cell_type": "markdown",
   "id": "68abeb42",
   "metadata": {},
   "source": [
    "## Pandas数据结构-DataFrame\n",
    "pandas.DataFrame( data, index, columns, dtype, copy) **series中的name->columns**  \n",
    "* data：一组数据(ndarray、series, map, lists, dict 等类型)。  \n",
    "* index：索引值，或者可以称为行标签。  \n",
    "* columns：列标签，默认为 RangeIndex (0, 1, 2, …, n) 。  \n",
    "* dtype：数据类型。  \n",
    "* copy：拷贝数据，默认为 False。"
   ]
  },
  {
   "cell_type": "code",
   "execution_count": 11,
   "id": "de435d6a",
   "metadata": {},
   "outputs": [
    {
     "name": "stdout",
     "output_type": "stream",
     "text": [
      "     Site  Age\n",
      "0  Google   10\n",
      "1  Runoob   12\n",
      "2    Wiki   13\n"
     ]
    }
   ],
   "source": [
    "import pandas as pd\n",
    "data = [['Google',10],['Runoob',12],['Wiki',13]]   #使用列表创建\n",
    "df = pd.DataFrame(data,columns=['Site','Age'])\n",
    "print(df)"
   ]
  },
  {
   "cell_type": "code",
   "execution_count": 12,
   "id": "423e24ec",
   "metadata": {},
   "outputs": [
    {
     "name": "stdout",
     "output_type": "stream",
     "text": [
      "     Site  Age\n",
      "0  Google   10\n",
      "1  Runoob   12\n",
      "2    Wiki   13\n"
     ]
    }
   ],
   "source": [
    "data = {'Site':['Google', 'Runoob', 'Wiki'], 'Age':[10, 12, 13]} #使用字典创建\n",
    "df = pd.DataFrame(data)\n",
    "print (df)"
   ]
  },
  {
   "cell_type": "markdown",
   "id": "4b572f16",
   "metadata": {},
   "source": [
    "### 索引  \n",
    "loc[i]返回第i行  **返回结果其实就是一个 Pandas Series 数据。**  \n",
    "i可为列表，index名称  \n",
    "df.loc[[0, 1]]，df.loc[\"day2\"]"
   ]
  },
  {
   "cell_type": "code",
   "execution_count": 15,
   "id": "3a45aa67",
   "metadata": {},
   "outputs": [
    {
     "name": "stdout",
     "output_type": "stream",
     "text": [
      "Site    Google\n",
      "Age         10\n",
      "Name: 0, dtype: object\n",
      "Site    Runoob\n",
      "Age         12\n",
      "Name: 1, dtype: object\n",
      "     Site  Age\n",
      "0  Google   10\n",
      "1  Runoob   12\n"
     ]
    },
    {
     "data": {
      "text/plain": [
       "(None, None, None)"
      ]
     },
     "execution_count": 15,
     "metadata": {},
     "output_type": "execute_result"
    }
   ],
   "source": [
    "print(df.loc[0]),print(df.loc[1]),print(df.loc[[0, 1]])"
   ]
  },
  {
   "cell_type": "markdown",
   "id": "bad51f04",
   "metadata": {},
   "source": [
    "# Pandas CSV文件  \n",
    "读取pd.read_csv(r'F:\\practice_data\\nba.csv')  \n",
    "存储df.to_csv('site.csv')\n"
   ]
  },
  {
   "cell_type": "code",
   "execution_count": 19,
   "id": "0c17d30a",
   "metadata": {},
   "outputs": [
    {
     "name": "stdout",
     "output_type": "stream",
     "text": [
      "              Name            Team  Number Position   Age Height  Weight  \\\n",
      "0    Avery Bradley  Boston Celtics     0.0       PG  25.0    6-2   180.0   \n",
      "1      Jae Crowder  Boston Celtics    99.0       SF  25.0    6-6   235.0   \n",
      "2     John Holland  Boston Celtics    30.0       SG  27.0    6-5   205.0   \n",
      "3      R.J. Hunter  Boston Celtics    28.0       SG  22.0    6-5   185.0   \n",
      "4    Jonas Jerebko  Boston Celtics     8.0       PF  29.0   6-10   231.0   \n",
      "..             ...             ...     ...      ...   ...    ...     ...   \n",
      "453   Shelvin Mack       Utah Jazz     8.0       PG  26.0    6-3   203.0   \n",
      "454      Raul Neto       Utah Jazz    25.0       PG  24.0    6-1   179.0   \n",
      "455   Tibor Pleiss       Utah Jazz    21.0        C  26.0    7-3   256.0   \n",
      "456    Jeff Withey       Utah Jazz    24.0        C  26.0    7-0   231.0   \n",
      "457            NaN             NaN     NaN      NaN   NaN    NaN     NaN   \n",
      "\n",
      "               College     Salary  \n",
      "0                Texas  7730337.0  \n",
      "1            Marquette  6796117.0  \n",
      "2    Boston University        NaN  \n",
      "3        Georgia State  1148640.0  \n",
      "4                  NaN  5000000.0  \n",
      "..                 ...        ...  \n",
      "453             Butler  2433333.0  \n",
      "454                NaN   900000.0  \n",
      "455                NaN  2900000.0  \n",
      "456             Kansas   947276.0  \n",
      "457                NaN        NaN  \n",
      "\n",
      "[458 rows x 9 columns]\n"
     ]
    }
   ],
   "source": [
    "\"\"\"读取csv\"\"\" \n",
    "import pandas as pd\n",
    "df = pd.read_csv(r'F:\\practice_data\\nba.csv')\n",
    "print(df)    #trick df.to_string() 如果不使用该函数，则输出结果为数据的前面 5 行和末尾 5 行，中间部分以 ... 代替"
   ]
  },
  {
   "cell_type": "markdown",
   "id": "2af4a6a3",
   "metadata": {},
   "source": [
    "df.head() 读取前n行\n",
    "df.tail() 读取末n行\n",
    "df.info() 返回表格基本信息"
   ]
  }
 ],
 "metadata": {
  "kernelspec": {
   "display_name": "Python 3 (ipykernel)",
   "language": "python",
   "name": "python3"
  },
  "language_info": {
   "codemirror_mode": {
    "name": "ipython",
    "version": 3
   },
   "file_extension": ".py",
   "mimetype": "text/x-python",
   "name": "python",
   "nbconvert_exporter": "python",
   "pygments_lexer": "ipython3",
   "version": "3.9.18"
  }
 },
 "nbformat": 4,
 "nbformat_minor": 5
}
